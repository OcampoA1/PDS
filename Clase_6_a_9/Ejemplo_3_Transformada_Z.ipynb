{
 "cells": [
  {
   "cell_type": "markdown",
   "id": "949ff35f",
   "metadata": {},
   "source": [
    "# Ejemplo 3. Transformada Z"
   ]
  },
  {
   "cell_type": "code",
   "execution_count": 1,
   "id": "8952eeb0",
   "metadata": {},
   "outputs": [],
   "source": [
    "from sympy import *\n",
    "import numpy as np\n",
    "import matplotlib.pyplot as plt"
   ]
  },
  {
   "cell_type": "markdown",
   "id": "a768e6fe",
   "metadata": {},
   "source": [
    "### Transformada Z de una secuencia"
   ]
  },
  {
   "cell_type": "code",
   "execution_count": 2,
   "id": "bcc11c2f",
   "metadata": {},
   "outputs": [],
   "source": [
    "def transZsec(arr, zero):\n",
    "    # La funcion recibe un arreglo quees al cual se le va a sacar la\n",
    "    # transformada y un dato 'zero' que es la posición del cero de la secuencia.\n",
    "    Z = Symbol('Z')\n",
    "    pot = zero\n",
    "    for i in arr:\n",
    "        print(f'X({-pot}) =', i*np.power(Z, pot))\n",
    "        pot -= 1"
   ]
  },
  {
   "cell_type": "code",
   "execution_count": 3,
   "id": "26fe6c83",
   "metadata": {},
   "outputs": [],
   "source": [
    "arr = np.array([1, 2, 3, 4, 5])"
   ]
  },
  {
   "cell_type": "code",
   "execution_count": 4,
   "id": "82f4b37c",
   "metadata": {},
   "outputs": [
    {
     "name": "stdout",
     "output_type": "stream",
     "text": [
      "X(-2) = Z**2\n",
      "X(-1) = 2*Z\n",
      "X(0) = 3\n",
      "X(1) = 4/Z\n",
      "X(2) = 5/Z**2\n"
     ]
    }
   ],
   "source": [
    "arr_trans = transZsec(arr, 2)"
   ]
  },
  {
   "cell_type": "markdown",
   "id": "e630f78f",
   "metadata": {},
   "source": [
    "# Ejemplos propios"
   ]
  },
  {
   "cell_type": "code",
   "execution_count": 16,
   "id": "f7c2d1a4",
   "metadata": {},
   "outputs": [
    {
     "name": "stdout",
     "output_type": "stream",
     "text": [
      "X(-4) = 3*Z**4\n",
      "X(-3) = 6*Z**3\n",
      "X(-2) = 7*Z**2\n",
      "X(-1) = 8*Z\n",
      "X(0) = 9\n",
      "X(1) = 6/Z\n"
     ]
    }
   ],
   "source": [
    "a = [3,6,7,8,9,6]\n",
    "a_1 = transZsec(a,4)"
   ]
  },
  {
   "cell_type": "markdown",
   "id": "79650566",
   "metadata": {},
   "source": [
    "Aplicando la función anterior, la cual, ubica las Z's dependiendo de la ubicación del cero que se le dé, se puede ver que cumple correctamente, con la secuencia de numeros 'a'"
   ]
  },
  {
   "cell_type": "markdown",
   "id": "79b5c9b4",
   "metadata": {},
   "source": [
    "### Transformada Z de una función de la forma $a^n u(n)$"
   ]
  },
  {
   "cell_type": "code",
   "execution_count": 5,
   "id": "3215761d",
   "metadata": {},
   "outputs": [],
   "source": [
    "def transZfunc(a, despla, desplu):\n",
    "    # Esta función recibe el valor de a para calcular la\n",
    "    # transformada por medio de la serie geométrica.\n",
    "    Z = Symbol('Z')\n",
    "    result = ''\n",
    "    if (desplu == despla):\n",
    "        result += str(np.power(Z, -desplu)) + '('\n",
    "    if (desplu != 0):\n",
    "        for i in range(desplu):\n",
    "            result += str(-np.power(a/Z, i))\n",
    "    result += '+' + str(1/(1-a*np.power(Z, -1))) + ')'\n",
    "    return result"
   ]
  },
  {
   "cell_type": "markdown",
   "id": "8633d3ff",
   "metadata": {},
   "source": [
    "Supongamos que se ingresa: $x(n)=(\\frac{1}{4})^{n-1} u(n-1)$"
   ]
  },
  {
   "cell_type": "code",
   "execution_count": 15,
   "id": "c32a466b",
   "metadata": {},
   "outputs": [
    {
     "data": {
      "text/plain": [
       "'1/Z(-1+1/(1 - 0.25/Z))'"
      ]
     },
     "execution_count": 15,
     "metadata": {},
     "output_type": "execute_result"
    }
   ],
   "source": [
    "transZfunc(1/4, 1, 1)"
   ]
  },
  {
   "cell_type": "markdown",
   "id": "e71c1c7b",
   "metadata": {},
   "source": [
    "$X(Z)=-Z^{-1}+\\frac{Z^{-1}}{1-\\frac{Z^{-1}}{4}}$"
   ]
  },
  {
   "cell_type": "markdown",
   "id": "e9aa4cbb",
   "metadata": {},
   "source": [
    "# Ejemplos propios"
   ]
  },
  {
   "cell_type": "markdown",
   "id": "3a2a7f83",
   "metadata": {},
   "source": [
    "$x(n)=(\\frac{3}{4})^{n} u(n-1)$"
   ]
  },
  {
   "cell_type": "code",
   "execution_count": 22,
   "id": "28bf0018",
   "metadata": {},
   "outputs": [
    {
     "data": {
      "text/plain": [
       "'-1+1/(1 - 0.75/Z))'"
      ]
     },
     "execution_count": 22,
     "metadata": {},
     "output_type": "execute_result"
    }
   ],
   "source": [
    "transZfunc(3/4,0,1)"
   ]
  },
  {
   "cell_type": "code",
   "execution_count": null,
   "id": "63fb2f05",
   "metadata": {},
   "outputs": [],
   "source": []
  }
 ],
 "metadata": {
  "kernelspec": {
   "display_name": "Python 3 (ipykernel)",
   "language": "python",
   "name": "python3"
  },
  "language_info": {
   "codemirror_mode": {
    "name": "ipython",
    "version": 3
   },
   "file_extension": ".py",
   "mimetype": "text/x-python",
   "name": "python",
   "nbconvert_exporter": "python",
   "pygments_lexer": "ipython3",
   "version": "3.9.12"
  }
 },
 "nbformat": 4,
 "nbformat_minor": 5
}
